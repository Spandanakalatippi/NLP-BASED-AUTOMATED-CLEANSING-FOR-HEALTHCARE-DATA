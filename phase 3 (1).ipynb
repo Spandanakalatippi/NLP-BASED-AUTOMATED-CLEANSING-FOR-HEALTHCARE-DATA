{
 "cells": [
  {
   "cell_type": "code",
   "execution_count": 13,
   "id": "d28946b7-a9d7-484c-872a-e1afba6b1706",
   "metadata": {},
   "outputs": [
    {
     "name": "stdout",
     "output_type": "stream",
     "text": [
      "Data after imputation:\n",
      "    Patient_ID  Blood_Pressure\n",
      "0         101           120.0\n",
      "1         102           125.0\n",
      "2         103           130.0\n"
     ]
    }
   ],
   "source": [
    "from sklearn.impute import KNNImputer\n",
    "import pandas as pd\n",
    "\n",
    "# Sample healthcare dataset with missing values\n",
    "data = pd.DataFrame({\n",
    "    'Patient_ID': [101, 102, 103],\n",
    "    'Blood_Pressure': [120, None, 130]  # Missing value for one patient\n",
    "})\n",
    "\n",
    "# Use KNN Imputer to fill missing values\n",
    "imputer = KNNImputer(n_neighbors=2)\n",
    "data[['Blood_Pressure']] = imputer.fit_transform(data[['Blood_Pressure']])\n",
    "\n",
    "# Corrected print statement\n",
    "print(\"Data after imputation:\\n\", data)\n"
   ]
  },
  {
   "cell_type": "code",
   "execution_count": 15,
   "id": "0d651946-51ee-421f-a431-25b158bed9d0",
   "metadata": {},
   "outputs": [
    {
     "name": "stdout",
     "output_type": "stream",
     "text": [
      "Outlier labels: [ 1  1  1 -1  1]\n"
     ]
    }
   ],
   "source": [
    "from sklearn.ensemble import IsolationForest\n",
    "import numpy as np\n",
    "\n",
    "# Sample healthcare dataset (e.g., patient glucose levels)\n",
    "glucose_levels = np.array([[90], [95], [100], [300], [105]])  # 300 is an outlier\n",
    "\n",
    "# Detecting outliers using Isolation Forest\n",
    "clf = IsolationForest(contamination=0.2, random_state=42)\n",
    "outliers = clf.fit_predict(glucose_levels)\n",
    "\n",
    "print(\"Outlier labels:\", outliers)  # -1 for outliers, 1 for normal values\n"
   ]
  },
  {
   "cell_type": "code",
   "execution_count": 17,
   "id": "f8d45192-67ec-4864-b40b-3fa211b2636d",
   "metadata": {},
   "outputs": [
    {
     "name": "stdout",
     "output_type": "stream",
     "text": [
      "Resampled class distribution: {0: 3, 1: 3}\n"
     ]
    }
   ],
   "source": [
    "from imblearn.over_sampling import SMOTE\n",
    "\n",
    "# Sample healthcare dataset (e.g., disease diagnosis)\n",
    "X = [[120], [130], [140], [180], [190]]  # Blood pressure values\n",
    "y = [0, 0, 0, 1, 1]  # 0 = No Hypertension, 1 = Hypertension (Minority Class)\n",
    "\n",
    "# Apply SMOTE to balance the classes\n",
    "smote = SMOTE(random_state=42, k_neighbors=1)\n",
    "X_resampled, y_resampled = smote.fit_resample(X, y)\n",
    "\n",
    "# Print resampled class distribution\n",
    "print(\"Resampled class distribution:\", \n",
    "      {label: sum(1 for i in y_resampled if i == label) for label in set(y_resampled)})\n"
   ]
  },
  {
   "cell_type": "code",
   "execution_count": 7,
   "id": "85c70418-53c2-4cd6-b4f9-a2c024829bbc",
   "metadata": {},
   "outputs": [
    {
     "name": "stdout",
     "output_type": "stream",
     "text": [
      "Accuracy: 1.00\n"
     ]
    }
   ],
   "source": [
    "#2.1 Baseline Model with Decision Tree\n",
    "from sklearn.model_selection import train_test_split\n",
    "from sklearn.tree import DecisionTreeClassifier\n",
    "from sklearn.metrics import accuracy_score\n",
    "\n",
    "# Splitting data\n",
    "X_train, X_test, y_train, y_test = train_test_split(X_resampled, y_resampled, test_size=0.2, random_state=42)\n",
    "\n",
    "# Decision Tree Model\n",
    "model = DecisionTreeClassifier(max_depth=3)\n",
    "model.fit(X_train, y_train)\n",
    "\n",
    "# Predictions\n",
    "predictions = model.predict(X_test)\n",
    "print(f\"Accuracy: {accuracy_score(y_test, predictions):.2f}\")"
   ]
  },
  {
   "cell_type": "code",
   "execution_count": 21,
   "id": "0232671b-0fbf-4a09-b475-33b745264088",
   "metadata": {},
   "outputs": [
    {
     "name": "stdout",
     "output_type": "stream",
     "text": [
      "Accuracy: 1.0\n",
      "\n",
      "Classification Report:\n",
      "              precision    recall  f1-score   support\n",
      "\n",
      "           0       1.00      1.00      1.00         2\n",
      "           1       1.00      1.00      1.00         1\n",
      "\n",
      "    accuracy                           1.00         3\n",
      "   macro avg       1.00      1.00      1.00         3\n",
      "weighted avg       1.00      1.00      1.00         3\n",
      "\n"
     ]
    },
    {
     "data": {
      "image/png": "[encoded data removed]",
      "text/plain": [
       "<Figure size 640x480 with 2 Axes>"
      ]
     },
     "metadata": {},
     "output_type": "display_data"
    }
   ],
   "source": [
    "from sklearn.model_selection import train_test_split\n",
    "from sklearn.ensemble import RandomForestClassifier\n",
    "from sklearn.metrics import classification_report, confusion_matrix, accuracy_score\n",
    "from imblearn.over_sampling import SMOTE\n",
    "import seaborn as sns\n",
    "import matplotlib.pyplot as plt\n",
    "\n",
    "# Sample dataset (Blood Sugar Levels & Diabetes Diagnosis)\n",
    "X = [[85], [90], [95], [100], [105], [200], [210], [220]]  # More data points\n",
    "y = [0, 0, 0, 0, 0, 1, 1, 1]  # Balanced classes\n",
    "\n",
    "# Balance data using SMOTE\n",
    "smote = SMOTE(random_state=42, k_neighbors=1)\n",
    "X_resampled, y_resampled = smote.fit_resample(X, y)\n",
    "\n",
    "# Ensure test set contains both classes\n",
    "X_train, X_test, y_train, y_test = train_test_split(X_resampled, y_resampled, test_size=0.3, random_state=42, stratify=y_resampled)\n",
    "\n",
    "# Train Random Forest Model\n",
    "clf = RandomForestClassifier(n_estimators=10, random_state=42)\n",
    "clf.fit(X_train, y_train)\n",
    "\n",
    "# Make predictions\n",
    "y_pred = clf.predict(X_test)\n",
    "\n",
    "# Print accuracy\n",
    "print(\"Accuracy:\", accuracy_score(y_test, y_pred))\n",
    "\n",
    "# Print classification report\n",
    "print(\"\\nClassification Report:\")\n",
    "print(classification_report(y_test, y_pred))\n",
    "\n",
    "# Show confusion matrix with explicit labels\n",
    "conf_matrix = confusion_matrix(y_test, y_pred, labels=[0, 1])\n",
    "sns.heatmap(conf_matrix, annot=True, cmap=\"Blues\", fmt=\"d\", xticklabels=[0, 1], yticklabels=[0, 1])\n",
    "plt.title(\"Confusion Matrix\")\n",
    "plt.xlabel(\"Predicted\")\n",
    "plt.ylabel(\"Actual\")\n",
    "plt.show()\n",
    "\n",
    "\n"
   ]
  },
  {
   "cell_type": "code",
   "execution_count": null,
   "id": "565499ae-7376-42a8-8de4-9f0836f69ad8",
   "metadata": {},
   "outputs": [],
   "source": []
  }
 ],
 "metadata": {
  "kernelspec": {
   "display_name": "Python [conda env:base] *",
   "language": "python",
   "name": "conda-base-py"
  },
  "language_info": {
   "codemirror_mode": {
    "name": "ipython",
    "version": 3
   },
   "file_extension": ".py",
   "mimetype": "text/x-python",
   "name": "python",
   "nbconvert_exporter": "python",
   "pygments_lexer": "ipython3",
   "version": "3.12.4"
  }
 },
 "nbformat": 4,
 "nbformat_minor": 5
}
