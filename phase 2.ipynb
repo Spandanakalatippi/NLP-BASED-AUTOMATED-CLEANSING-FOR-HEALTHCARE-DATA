{
 "cells": [
  {
   "cell_type": "code",
   "execution_count": 73,
   "id": "60865c27-9378-404f-9460-7c5728237f3f",
   "metadata": {},
   "outputs": [
    {
     "name": "stdout",
     "output_type": "stream",
     "text": [
      "CSV file 'indian_healthcare_data_dirty.csv' has been created successfully!\n"
     ]
    }
   ],
   "source": [
    "import pandas as pd  \n",
    "import numpy as np\n",
    "\n",
    "# Define Indian healthcare data with duplicates and missing values  \n",
    "data = {\n",
    "    \"Patient_ID\": [201, 202, 203, 204, 205, 206, 207, 208, 209, 210, \n",
    "                   202, 204, 206, 208, 209],  # Duplicates included\n",
    "    \"Name\": [\"Rajesh Kumar\", \"Priya Sharma\", \"Arjun Verma\", \"Unknown\", \"Vikram Singh\",\n",
    "             \"Ananya Iyer\", \"Rohan Das\", \"Unknown\", \"Suresh Reddy\", \"Kavita Joshi\",\n",
    "             \"Priya Sharma\", \"Unknown\", \"Ananya Iyer\", \"Unknown\", \"Suresh Reddy\"],  # Duplicate & missing names\n",
    "    \"Age\": [50, 42, 38, 23, 47, 36, None, 48, 60, 39,  # Missing Age\n",
    "            42, 23, None, 48, 60],  \n",
    "    \"Gender\": [\"Male\", \"Female\", \"Male\", \"Male\", \"Male\", \"Female\", \"Male\", \"Male\", \"Male\", \"Female\",\n",
    "               \"Female\", \"Male\", \"Female\", \"Male\", \"Male\"],  \n",
    "    \"Diagnosis\": [\"Diabetss\", \"Hypertens\", \"Heart Disease\", \"Flu\", \"Heart Disease\",\n",
    "                  \"Healthy\", \"Diabetss\", \"Healthy\", \"Flu\", \"Asthma\",  # Missing & duplicate diagnoses\n",
    "                  \"Hypertension\", \"Flu\", None, \"Healthy\", \"Flu\"],  \n",
    "    \"Medication\": [\"Metformin\", \"Amlodipine\", \"Aspirin\", \"Oseltamivir\", \"Unknown\",\n",
    "                    \"Metformin\", \"Amlodipine\", \"Unknown\", \"Oseltamivir\", \"Aspirin\",\n",
    "                    \"Amlodipine\", \"Oseltamivir\", \"Unknown\", \"Unknown\", \"Aspirin\"],  \n",
    "    \"Visit_Date\": [\"01-10-2023\", \"15-11-2023\", \"NULL\", \"01-12-2023\", \"10-12-2023\",\n",
    "                    \"20-10-2023\", \"NULL\", \"05-12-2023\", \"NULL\", \"25-11-2023\",\n",
    "                    \"15-11-2023\", \"01-12-2023\", \"NULL\", \"05-12-2023\", \"NULL\"]\n",
    "}\n",
    "\n",
    "# Convert to DataFrame  \n",
    "df = pd.DataFrame(data)\n",
    "\n",
    "# Replace NaN values with 'None'\n",
    "df = df.where(pd.notna(df), None)\n",
    "\n",
    "# Save to CSV file  \n",
    "csv_filename = \"indian_healthcare_data_dirty.csv\"\n",
    "df.to_csv(csv_filename, index=False)\n",
    "\n",
    "print(f\"CSV file '{csv_filename}' has been created successfully!\")\n"
   ]
  },
  {
   "cell_type": "code",
   "execution_count": 75,
   "id": "7304cd8a-87ac-4a72-82e8-ccc17dc6bd3b",
   "metadata": {},
   "outputs": [
    {
     "name": "stdout",
     "output_type": "stream",
     "text": [
      "Healthcare Data from CSV:\n",
      "\n",
      " Patient_ID         Name   Age Gender     Diagnosis  Medication Visit_Date\n",
      "        201 Rajesh Kumar  50.0   Male      Diabetss   Metformin 01-10-2023\n",
      "        202 Priya Sharma  42.0 Female     Hypertens  Amlodipine 15-11-2023\n",
      "        203  Arjun Verma  38.0   Male Heart Disease     Aspirin       None\n",
      "        204      Unknown  23.0   Male           Flu Oseltamivir 01-12-2023\n",
      "        205 Vikram Singh  47.0   Male Heart Disease     Unknown 10-12-2023\n",
      "        206  Ananya Iyer  36.0 Female       Healthy   Metformin 20-10-2023\n",
      "        207    Rohan Das  None   Male      Diabetss  Amlodipine       None\n",
      "        208      Unknown  48.0   Male       Healthy     Unknown 05-12-2023\n",
      "        209 Suresh Reddy  60.0   Male           Flu Oseltamivir       None\n",
      "        210 Kavita Joshi  39.0 Female        Asthma     Aspirin 25-11-2023\n",
      "        202 Priya Sharma  42.0 Female  Hypertension  Amlodipine 15-11-2023\n",
      "        204      Unknown  23.0   Male           Flu Oseltamivir 01-12-2023\n",
      "        206  Ananya Iyer  None Female          None     Unknown       None\n",
      "        208      Unknown  48.0   Male       Healthy     Unknown 05-12-2023\n",
      "        209 Suresh Reddy  60.0   Male           Flu     Aspirin       None\n"
     ]
    }
   ],
   "source": [
    "import pandas as pd  \n",
    "\n",
    "# Read the CSV file  \n",
    "df = pd.read_csv(\"indian_healthcare_data_dirty.csv\")\n",
    "\n",
    "# Replace NaN values with \"None\" or \"Missing\"  \n",
    "df = df.fillna(\"None\")  # Change to \"None\" if needed\n",
    "\n",
    "# Display the entire dataset  \n",
    "print(\"Healthcare Data from CSV:\\n\")\n",
    "print(df.to_string(index=False))  # Ensures full table display without truncation\n",
    "\n",
    "\n",
    "\n"
   ]
  },
  {
   "cell_type": "code",
   "execution_count": 77,
   "id": "1a5e43ab-d3d7-4d24-9e4e-5e7793a08086",
   "metadata": {},
   "outputs": [
    {
     "name": "stdout",
     "output_type": "stream",
     "text": [
      "After Handling Missing Values:\n",
      "\n",
      " Patient_ID         Name  Age Gender     Diagnosis  Medication Visit_Date\n",
      "        201 Rajesh Kumar 50.0   Male      Diabetss   Metformin 01-10-2023\n",
      "        202 Priya Sharma 42.0 Female     Hypertens  Amlodipine 15-11-2023\n",
      "        203  Arjun Verma 38.0   Male Heart Disease     Aspirin       NULL\n",
      "        204      Unknown 23.0   Male           Flu Oseltamivir 01-12-2023\n",
      "        205 Vikram Singh 47.0   Male Heart Disease     Unknown 10-12-2023\n",
      "        206  Ananya Iyer 36.0 Female       Healthy   Metformin 20-10-2023\n",
      "        207    Rohan Das 42.0   Male      Diabetss  Amlodipine       NULL\n",
      "        208      Unknown 48.0   Male       Healthy     Unknown 05-12-2023\n",
      "        209 Suresh Reddy 60.0   Male           Flu Oseltamivir       NULL\n",
      "        210 Kavita Joshi 39.0 Female        Asthma     Aspirin 25-11-2023\n",
      "        202 Priya Sharma 42.0 Female  Hypertension  Amlodipine 15-11-2023\n",
      "        204      Unknown 23.0   Male           Flu Oseltamivir 01-12-2023\n",
      "        206  Ananya Iyer 42.0 Female       Unknown     Unknown       NULL\n",
      "        208      Unknown 48.0   Male       Healthy     Unknown 05-12-2023\n",
      "        209 Suresh Reddy 60.0   Male           Flu     Aspirin       NULL\n"
     ]
    }
   ],
   "source": [
    "import pandas as pd  \n",
    "\n",
    "# Load the dataset from CSV  \n",
    "df = pd.read_csv(\"indian_healthcare_data_dirty.csv\")  \n",
    "\n",
    "# Replace NaN values with 'None' explicitly  \n",
    "df = df.where(pd.notna(df), None)\n",
    "\n",
    "# Replace invalid values in 'Age' (-1) and fill missing 'Name' and 'Diagnosis'  \n",
    "df['Age'] = pd.to_numeric(df['Age'], errors='coerce').replace(-1, None).fillna(df['Age'].median())  \n",
    "df['Name'] = df['Name'].fillna('Unknown')  \n",
    "df['Diagnosis'] = df['Diagnosis'].fillna('Unknown')  \n",
    "\n",
    "# Add 'Medication' column if it doesn't exist  \n",
    "if 'Medication' not in df.columns:  \n",
    "    df['Medication'] = 'Unknown'  # Default to 'Unknown' if column is missing  \n",
    "else:  \n",
    "    df['Medication'] = df['Medication'].fillna('Unknown')  # Fill missing values  \n",
    "\n",
    "# Ensure 'Visit_Date' missing values are explicitly replaced with 'NULL'  \n",
    "if 'Visit_Date' not in df.columns:  \n",
    "    df['Visit_Date'] = 'NULL'  # Create column with default 'NULL' if not present  \n",
    "else:  \n",
    "    df['Visit_Date'] = df['Visit_Date'].fillna('NULL')  # Replace NaN with 'NULL'  \n",
    "\n",
    "# Display the cleaned dataset  \n",
    "print(\"After Handling Missing Values:\\n\")\n",
    "print(df.to_string(index=False))  # Display full table without truncation\n"
   ]
  },
  {
   "cell_type": "code",
   "execution_count": 79,
   "id": "0ac0233f-4a51-4780-9352-8205f8f82514",
   "metadata": {},
   "outputs": [
    {
     "name": "stdout",
     "output_type": "stream",
     "text": [
      "After Removing Duplicates:\n",
      "    Patient_ID          Name   Age  Gender      Diagnosis   Medication  \\\n",
      "0         201  Rajesh Kumar  50.0    Male       Diabetss    Metformin   \n",
      "1         202  Priya Sharma  42.0  Female      Hypertens   Amlodipine   \n",
      "2         203   Arjun Verma  38.0    Male  Heart Disease      Aspirin   \n",
      "3         204       Unknown  23.0    Male            Flu  Oseltamivir   \n",
      "4         205  Vikram Singh  47.0    Male  Heart Disease      Unknown   \n",
      "5         206   Ananya Iyer  36.0  Female        Healthy    Metformin   \n",
      "6         207     Rohan Das  None    Male       Diabetss   Amlodipine   \n",
      "7         208       Unknown  48.0    Male        Healthy      Unknown   \n",
      "8         209  Suresh Reddy  60.0    Male            Flu  Oseltamivir   \n",
      "9         210  Kavita Joshi  39.0  Female         Asthma      Aspirin   \n",
      "\n",
      "   Visit_Date  \n",
      "0  01-10-2023  \n",
      "1  15-11-2023  \n",
      "2        None  \n",
      "3  01-12-2023  \n",
      "4  10-12-2023  \n",
      "5  20-10-2023  \n",
      "6        None  \n",
      "7  05-12-2023  \n",
      "8        None  \n",
      "9  25-11-2023  \n"
     ]
    }
   ],
   "source": [
    "import pandas as pd  \n",
    "\n",
    "# Load the dataset from CSV  \n",
    "df = pd.read_csv(\"indian_healthcare_data_dirty.csv\")  \n",
    "\n",
    "# Drop duplicate records based on Patient_ID and Name to ensure unique patients  \n",
    "df = df.drop_duplicates(subset=[\"Patient_ID\", \"Name\"], keep=\"first\")\n",
    "\n",
    "# Reset index after dropping duplicates\n",
    "df.reset_index(drop=True, inplace=True)\n",
    "\n",
    "# Replace NaN values with 'None'\n",
    "df = df.where(pd.notna(df), 'None')\n",
    "\n",
    "# Display the cleaned data  \n",
    "print(\"After Removing Duplicates:\\n\", df)\n"
   ]
  },
  {
   "cell_type": "code",
   "execution_count": 83,
   "id": "8c420088-322c-4f00-a8e4-ccb6288ff56a",
   "metadata": {},
   "outputs": [
    {
     "name": "stdout",
     "output_type": "stream",
     "text": [
      "After Normalizing Diagnoses:\n",
      "  Patient_ID         Name   Age Gender     Diagnosis  Medication Visit_Date\n",
      "        201 Rajesh Kumar  50.0   Male      Diabetes   Metformin 01-10-2023\n",
      "        202 Priya Sharma  42.0 Female  Hypertension  Amlodipine 15-11-2023\n",
      "        203  Arjun Verma  38.0   Male Heart Disease     Aspirin       None\n",
      "        204      Unknown  23.0   Male     Influenza Oseltamivir 01-12-2023\n",
      "        205 Vikram Singh  47.0   Male Heart Disease     Unknown 10-12-2023\n",
      "        206  Ananya Iyer  36.0 Female       Healthy   Metformin 20-10-2023\n",
      "        207    Rohan Das  None   Male      Diabetes  Amlodipine       None\n",
      "        208      Unknown  48.0   Male       Healthy     Unknown 05-12-2023\n",
      "        209 Suresh Reddy  60.0   Male     Influenza Oseltamivir       None\n",
      "        210 Kavita Joshi  39.0 Female        Asthma     Aspirin 25-11-2023\n"
     ]
    }
   ],
   "source": [
    "import pandas as pd\n",
    "import spacy\n",
    "\n",
    "# Load the dataset from CSV\n",
    "df = pd.read_csv(\"indian_healthcare_data_dirty.csv\")\n",
    "\n",
    "# Drop duplicate records based on Patient_ID and Name to ensure unique patients\n",
    "df = df.drop_duplicates(subset=[\"Patient_ID\", \"Name\"], keep=\"first\")\n",
    "\n",
    "# Reset index after dropping duplicates\n",
    "df.reset_index(drop=True, inplace=True)\n",
    "\n",
    "# Replace NaN values with 'None'\n",
    "df = df.where(pd.notna(df), 'None')\n",
    "\n",
    "# Load SpaCy model\n",
    "nlp = spacy.load(\"en_core_web_sm\")\n",
    "\n",
    "# Predefined mapping for diagnosis normalization\n",
    "diagnosis_mapping = {\n",
    "    \"Diabetss\": \"Diabetes\",\n",
    "    \"Hypertens\": \"Hypertension\",\n",
    "    \"Coronry Artery Ds\": \"Coronary Artery Disease\",\n",
    "    \"Flu\": \"Influenza\"\n",
    "}\n",
    "\n",
    "# Normalize Diagnosis\n",
    "df['Diagnosis'] = df['Diagnosis'].apply(lambda x: diagnosis_mapping.get(x, x))\n",
    "\n",
    "# Display the cleaned data\n",
    "print(\"After Normalizing Diagnoses:\\n\", df.to_string(index=False))\n"
   ]
  },
  {
   "cell_type": "code",
   "execution_count": 85,
   "id": "aaa5ea5e-d6cf-49dc-9880-3a4c8fb0ee77",
   "metadata": {},
   "outputs": [
    {
     "name": "stdout",
     "output_type": "stream",
     "text": [
      "Collecting en-core-web-sm==3.8.0\n",
      "  Downloading https://github.com/explosion/spacy-models/releases/download/en_core_web_sm-3.8.0/en_core_web_sm-3.8.0-py3-none-any.whl (12.8 MB)\n",
      "     ---------------------------------------- 0.0/12.8 MB ? eta -:--:--\n",
      "     ---------------------------------------- 0.0/12.8 MB ? eta -:--:--\n",
      "     ---------------------------------------- 0.0/12.8 MB ? eta -:--:--\n",
      "     --------------------------------------- 0.1/12.8 MB 409.6 kB/s eta 0:00:32\n",
      "     --------------------------------------- 0.1/12.8 MB 416.7 kB/s eta 0:00:31\n",
      "     --------------------------------------- 0.1/12.8 MB 514.3 kB/s eta 0:00:25\n",
      "      -------------------------------------- 0.2/12.8 MB 655.4 kB/s eta 0:00:20\n",
      "      -------------------------------------- 0.2/12.8 MB 758.5 kB/s eta 0:00:17\n",
      "      -------------------------------------- 0.3/12.8 MB 871.5 kB/s eta 0:00:15\n",
      "     - ------------------------------------- 0.4/12.8 MB 983.0 kB/s eta 0:00:13\n",
      "     - -------------------------------------- 0.5/12.8 MB 1.0 MB/s eta 0:00:12\n",
      "     - -------------------------------------- 0.5/12.8 MB 1.1 MB/s eta 0:00:12\n",
      "     - -------------------------------------- 0.6/12.8 MB 1.2 MB/s eta 0:00:11\n",
      "     -- ------------------------------------- 0.7/12.8 MB 1.3 MB/s eta 0:00:10\n",
      "     -- ------------------------------------- 0.8/12.8 MB 1.3 MB/s eta 0:00:09\n",
      "     -- ------------------------------------- 0.8/12.8 MB 1.3 MB/s eta 0:00:09\n",
      "     -- ------------------------------------- 0.9/12.8 MB 1.3 MB/s eta 0:00:10\n",
      "     --- ------------------------------------ 1.0/12.8 MB 1.3 MB/s eta 0:00:10\n",
      "     --- ------------------------------------ 1.1/12.8 MB 1.4 MB/s eta 0:00:09\n",
      "     --- ------------------------------------ 1.2/12.8 MB 1.4 MB/s eta 0:00:09\n",
      "     ---- ----------------------------------- 1.3/12.8 MB 1.5 MB/s eta 0:00:08\n",
      "     ---- ----------------------------------- 1.5/12.8 MB 1.6 MB/s eta 0:00:08\n",
      "     ----- ---------------------------------- 1.6/12.8 MB 1.6 MB/s eta 0:00:07\n",
      "     ----- ---------------------------------- 1.8/12.8 MB 1.7 MB/s eta 0:00:07\n",
      "     ------ --------------------------------- 2.0/12.8 MB 1.8 MB/s eta 0:00:07\n",
      "     ------ --------------------------------- 2.1/12.8 MB 1.9 MB/s eta 0:00:06\n",
      "     ------ --------------------------------- 2.2/12.8 MB 1.9 MB/s eta 0:00:06\n",
      "     ------- -------------------------------- 2.4/12.8 MB 2.0 MB/s eta 0:00:06\n",
      "     -------- ------------------------------- 2.6/12.8 MB 2.1 MB/s eta 0:00:05\n",
      "     -------- ------------------------------- 2.7/12.8 MB 2.1 MB/s eta 0:00:05\n",
      "     --------- ------------------------------ 2.9/12.8 MB 2.2 MB/s eta 0:00:05\n",
      "     --------- ------------------------------ 3.0/12.8 MB 2.2 MB/s eta 0:00:05\n",
      "     --------- ------------------------------ 3.2/12.8 MB 2.2 MB/s eta 0:00:05\n",
      "     ---------- ----------------------------- 3.4/12.8 MB 2.3 MB/s eta 0:00:05\n",
      "     ----------- ---------------------------- 3.6/12.8 MB 2.3 MB/s eta 0:00:04\n",
      "     ----------- ---------------------------- 3.8/12.8 MB 2.4 MB/s eta 0:00:04\n",
      "     ------------ --------------------------- 4.1/12.8 MB 2.5 MB/s eta 0:00:04\n",
      "     ------------- -------------------------- 4.3/12.8 MB 2.6 MB/s eta 0:00:04\n",
      "     ------------- -------------------------- 4.4/12.8 MB 2.6 MB/s eta 0:00:04\n",
      "     -------------- ------------------------- 4.7/12.8 MB 2.6 MB/s eta 0:00:04\n",
      "     --------------- ------------------------ 4.9/12.8 MB 2.7 MB/s eta 0:00:03\n",
      "     --------------- ------------------------ 5.0/12.8 MB 2.7 MB/s eta 0:00:03\n",
      "     ---------------- ----------------------- 5.2/12.8 MB 2.7 MB/s eta 0:00:03\n",
      "     ---------------- ----------------------- 5.3/12.8 MB 2.7 MB/s eta 0:00:03\n",
      "     ---------------- ----------------------- 5.3/12.8 MB 2.7 MB/s eta 0:00:03\n",
      "     ---------------- ----------------------- 5.4/12.8 MB 2.7 MB/s eta 0:00:03\n",
      "     ----------------- ---------------------- 5.5/12.8 MB 2.6 MB/s eta 0:00:03\n",
      "     ----------------- ---------------------- 5.7/12.8 MB 2.6 MB/s eta 0:00:03\n",
      "     ----------------- ---------------------- 5.7/12.8 MB 2.6 MB/s eta 0:00:03\n",
      "     ------------------ --------------------- 5.8/12.8 MB 2.6 MB/s eta 0:00:03\n",
      "     ------------------ --------------------- 6.0/12.8 MB 2.6 MB/s eta 0:00:03\n",
      "     ------------------- -------------------- 6.1/12.8 MB 2.6 MB/s eta 0:00:03\n",
      "     ------------------- -------------------- 6.3/12.8 MB 2.6 MB/s eta 0:00:03\n",
      "     ------------------- -------------------- 6.4/12.8 MB 2.6 MB/s eta 0:00:03\n",
      "     -------------------- ------------------- 6.5/12.8 MB 2.6 MB/s eta 0:00:03\n",
      "     -------------------- ------------------- 6.7/12.8 MB 2.7 MB/s eta 0:00:03\n",
      "     --------------------- ------------------ 6.9/12.8 MB 2.7 MB/s eta 0:00:03\n",
      "     --------------------- ------------------ 7.0/12.8 MB 2.7 MB/s eta 0:00:03\n",
      "     ---------------------- ----------------- 7.2/12.8 MB 2.7 MB/s eta 0:00:03\n",
      "     ---------------------- ----------------- 7.3/12.8 MB 2.7 MB/s eta 0:00:03\n",
      "     ----------------------- ---------------- 7.5/12.8 MB 2.7 MB/s eta 0:00:02\n",
      "     ----------------------- ---------------- 7.6/12.8 MB 2.7 MB/s eta 0:00:02\n",
      "     ----------------------- ---------------- 7.6/12.8 MB 2.7 MB/s eta 0:00:02\n",
      "     ------------------------ --------------- 7.7/12.8 MB 2.7 MB/s eta 0:00:02\n",
      "     ------------------------ --------------- 7.7/12.8 MB 2.7 MB/s eta 0:00:02\n",
      "     ------------------------ --------------- 7.7/12.8 MB 2.7 MB/s eta 0:00:02\n",
      "     ------------------------ --------------- 7.9/12.8 MB 2.6 MB/s eta 0:00:02\n",
      "     ------------------------ --------------- 7.9/12.8 MB 2.6 MB/s eta 0:00:02\n",
      "     ------------------------- -------------- 8.0/12.8 MB 2.6 MB/s eta 0:00:02\n",
      "     ------------------------- -------------- 8.2/12.8 MB 2.6 MB/s eta 0:00:02\n",
      "     ------------------------- -------------- 8.3/12.8 MB 2.6 MB/s eta 0:00:02\n",
      "     -------------------------- ------------- 8.4/12.8 MB 2.6 MB/s eta 0:00:02\n",
      "     -------------------------- ------------- 8.5/12.8 MB 2.6 MB/s eta 0:00:02\n",
      "     -------------------------- ------------- 8.6/12.8 MB 2.6 MB/s eta 0:00:02\n",
      "     --------------------------- ------------ 8.7/12.8 MB 2.6 MB/s eta 0:00:02\n",
      "     --------------------------- ------------ 8.8/12.8 MB 2.6 MB/s eta 0:00:02\n",
      "     --------------------------- ------------ 8.9/12.8 MB 2.6 MB/s eta 0:00:02\n",
      "     ---------------------------- ----------- 9.1/12.8 MB 2.6 MB/s eta 0:00:02\n",
      "     ---------------------------- ----------- 9.2/12.8 MB 2.6 MB/s eta 0:00:02\n",
      "     ----------------------------- ---------- 9.4/12.8 MB 2.6 MB/s eta 0:00:02\n",
      "     ----------------------------- ---------- 9.5/12.8 MB 2.6 MB/s eta 0:00:02\n",
      "     ------------------------------ --------- 9.6/12.8 MB 2.6 MB/s eta 0:00:02\n",
      "     ------------------------------ --------- 9.8/12.8 MB 2.6 MB/s eta 0:00:02\n",
      "     ------------------------------- -------- 10.0/12.8 MB 2.6 MB/s eta 0:00:02\n",
      "     ------------------------------- -------- 10.1/12.8 MB 2.6 MB/s eta 0:00:02\n",
      "     -------------------------------- ------- 10.3/12.8 MB 2.7 MB/s eta 0:00:01\n",
      "     -------------------------------- ------- 10.4/12.8 MB 2.8 MB/s eta 0:00:01\n",
      "     -------------------------------- ------- 10.6/12.8 MB 2.8 MB/s eta 0:00:01\n",
      "     --------------------------------- ------ 10.7/12.8 MB 2.9 MB/s eta 0:00:01\n",
      "     --------------------------------- ------ 10.9/12.8 MB 2.9 MB/s eta 0:00:01\n",
      "     ---------------------------------- ----- 11.0/12.8 MB 2.9 MB/s eta 0:00:01\n",
      "     ---------------------------------- ----- 11.1/12.8 MB 3.0 MB/s eta 0:00:01\n",
      "     ----------------------------------- ---- 11.2/12.8 MB 3.0 MB/s eta 0:00:01\n",
      "     ----------------------------------- ---- 11.2/12.8 MB 3.0 MB/s eta 0:00:01\n",
      "     ----------------------------------- ---- 11.3/12.8 MB 2.9 MB/s eta 0:00:01\n",
      "     ----------------------------------- ---- 11.4/12.8 MB 2.9 MB/s eta 0:00:01\n",
      "     ----------------------------------- ---- 11.4/12.8 MB 2.9 MB/s eta 0:00:01\n",
      "     ----------------------------------- ---- 11.5/12.8 MB 2.9 MB/s eta 0:00:01\n",
      "     ------------------------------------ --- 11.6/12.8 MB 2.9 MB/s eta 0:00:01\n",
      "     ------------------------------------ --- 11.7/12.8 MB 2.8 MB/s eta 0:00:01\n",
      "     ------------------------------------ --- 11.7/12.8 MB 2.8 MB/s eta 0:00:01\n",
      "     ------------------------------------ --- 11.7/12.8 MB 2.8 MB/s eta 0:00:01\n",
      "     ------------------------------------ --- 11.8/12.8 MB 2.8 MB/s eta 0:00:01\n",
      "     ------------------------------------- -- 11.9/12.8 MB 2.8 MB/s eta 0:00:01\n",
      "     ------------------------------------- -- 12.0/12.8 MB 2.8 MB/s eta 0:00:01\n",
      "     ------------------------------------- -- 12.1/12.8 MB 2.7 MB/s eta 0:00:01\n",
      "     -------------------------------------- - 12.2/12.8 MB 2.7 MB/s eta 0:00:01\n",
      "     -------------------------------------- - 12.3/12.8 MB 2.7 MB/s eta 0:00:01\n",
      "     -------------------------------------- - 12.4/12.8 MB 2.7 MB/s eta 0:00:01\n",
      "     -------------------------------------- - 12.5/12.8 MB 2.7 MB/s eta 0:00:01\n",
      "     ---------------------------------------  12.5/12.8 MB 2.7 MB/s eta 0:00:01\n",
      "     ---------------------------------------  12.6/12.8 MB 2.7 MB/s eta 0:00:01\n",
      "     ---------------------------------------  12.7/12.8 MB 2.6 MB/s eta 0:00:01\n",
      "     ---------------------------------------  12.8/12.8 MB 2.6 MB/s eta 0:00:01\n",
      "     ---------------------------------------- 12.8/12.8 MB 2.6 MB/s eta 0:00:00\n",
      "\u001b[38;5;2m[+] Download and installation successful\u001b[0m\n",
      "You can now load the package via spacy.load('en_core_web_sm')\n"
     ]
    }
   ],
   "source": [
    "!python -m spacy download en_core_web_sm\n"
   ]
  },
  {
   "cell_type": "code",
   "execution_count": 87,
   "id": "c2a35b80-ce19-42ff-9aea-721fdf4e8281",
   "metadata": {},
   "outputs": [],
   "source": [
    "import spacy\n",
    "\n",
    "# Load the SpaCy model\n",
    "nlp = spacy.load(\"en_core_web_sm\")"
   ]
  },
  {
   "cell_type": "code",
   "execution_count": 89,
   "id": "dd66104a-fb5c-4cb7-a0b5-80147086633d",
   "metadata": {},
   "outputs": [
    {
     "name": "stdout",
     "output_type": "stream",
     "text": [
      "{'spacy_version': '3.8.4', 'location': 'C:\\\\Users\\\\SPANDANA\\\\anaconda3\\\\Lib\\\\site-packages\\\\spacy', 'platform': 'Windows-11-10.0.22631-SP0', 'python_version': '3.12.4', 'pipelines': {'en_core_web_sm': '3.8.0'}}\n"
     ]
    }
   ],
   "source": [
    "import spacy\n",
    "print(spacy.info())"
   ]
  },
  {
   "cell_type": "code",
   "execution_count": 91,
   "id": "535150d7-e42d-4462-99a4-81af4abdb018",
   "metadata": {},
   "outputs": [
    {
     "data": {
      "image/png": "[encoded data removed]",
      "text/plain": [
       "<Figure size 800x600 with 1 Axes>"
      ]
     },
     "metadata": {},
     "output_type": "display_data"
    }
   ],
   "source": [
    "import matplotlib.pyplot as plt\n",
    "import seaborn as sns\n",
    "\n",
    "# Boxplot\n",
    "plt.figure(figsize=(8, 6))\n",
    "sns.boxplot(data['Age'])\n",
    "plt.title(\"Age Distribution\")\n",
    "plt.show()"
   ]
  },
  {
   "cell_type": "code",
   "execution_count": 99,
   "id": "a20865f6-4b10-4e4d-a8b2-8f6f51edbee6",
   "metadata": {
    "scrolled": true
   },
   "outputs": [
    {
     "data": {
      "image/png": "[encoded data removed]",
      "text/plain": [
       "<Figure size 1000x800 with 2 Axes>"
      ]
     },
     "metadata": {},
     "output_type": "display_data"
    }
   ],
   "source": [
    "import seaborn as sns\n",
    "import matplotlib.pyplot as plt\n",
    "import pandas as pd  # Add pandas import\n",
    "\n",
    "# Convert dictionary to DataFrame if data is a dictionary\n",
    "data = pd.DataFrame(data)  # Convert dict to DataFrame\n",
    "\n",
    "# Ensure you're using only numeric columns\n",
    "numeric_data = data.select_dtypes(include=['number'])\n",
    "\n",
    "# Optional: Handle missing values\n",
    "numeric_data = numeric_data.fillna(numeric_data.median())\n",
    "\n",
    "# Plot Heatmap\n",
    "plt.figure(figsize=(10, 8))\n",
    "sns.heatmap(numeric_data.corr(), annot=True, cmap='coolwarm')\n",
    "plt.title(\"Correlation Heatmap\")\n",
    "plt.show()"
   ]
  },
  {
   "cell_type": "code",
   "execution_count": 101,
   "id": "fb84eff7-ffb4-4dd1-ae09-7f962f0f55b4",
   "metadata": {},
   "outputs": [
    {
     "name": "stdout",
     "output_type": "stream",
     "text": [
      "Cleaned dataset saved as 'cleaned_healthcare_data.csv'\n"
     ]
    }
   ],
   "source": [
    "# Save cleaned dataset to CSV\n",
    "data.to_csv(\"cleaned_healthcare_data.csv\", index=False)\n",
    "print(\"Cleaned dataset saved as 'cleaned_healthcare_data.csv'\")"
   ]
  },
  {
   "cell_type": "code",
   "execution_count": null,
   "id": "4ad7ca35-b900-4af2-a272-781dc1b3eb94",
   "metadata": {},
   "outputs": [],
   "source": []
  }
 ],
 "metadata": {
  "kernelspec": {
   "display_name": "Python [conda env:base] *",
   "language": "python",
   "name": "conda-base-py"
  },
  "language_info": {
   "codemirror_mode": {
    "name": "ipython",
    "version": 3
   },
   "file_extension": ".py",
   "mimetype": "text/x-python",
   "name": "python",
   "nbconvert_exporter": "python",
   "pygments_lexer": "ipython3",
   "version": "3.12.4"
  }
 },
 "nbformat": 4,
 "nbformat_minor": 5
}
